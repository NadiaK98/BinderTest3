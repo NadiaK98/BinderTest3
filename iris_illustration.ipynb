{
  "cells": [
    {
      "cell_type": "markdown",
      "metadata": {
        "id": "4mMqWFDiqh0Z"
      },
      "source": [
        "This is an R Markdown Notebook with Exploratory Data Analysis on the iris dataset.\n",
        "The goal of this analysis to to understand the dataset by erxploring values under each of the categories of flowers.\n",
        "This Exploratory Data Analysis helps in understanding and preparing the dataset for applying Machine Learning algorithms.\n",
        "\n",
        "\n",
        "# 1. Dataset Description\n",
        "\n",
        "Iris dataset was introduced by Ronald Fisher, a British Biologist in 1936. The data set has 150 observations, around 50 for each species of Iris - setosa, virginica and versicolor. There are 4 features measured on each sample - length and the width of sepal and petal, in centimeters. Fisher built a linear discriminant model to distinguish the species using the 4 features.\n",
        "\n",
        "\n",
        "Reading the data set from csv file or load from the datasets built-in with the R installation.\n"
      ]
    },
    {
      "cell_type": "code",
      "execution_count": null,
      "metadata": {
        "id": "wrZ3Oyyqqh0a"
      },
      "outputs": [],
      "source": [
        "data(iris)\n",
        "\n"
      ]
    },
    {
      "cell_type": "markdown",
      "metadata": {
        "id": "q1iohsMXqh0g"
      },
      "source": [
        "View the loaded iris dataset\n",
        "\n"
      ]
    },
    {
      "cell_type": "code",
      "execution_count": null,
      "metadata": {
        "id": "8E-0D2JWqh0g"
      },
      "outputs": [],
      "source": [
        "iris\n",
        "\n"
      ]
    },
    {
      "cell_type": "markdown",
      "metadata": {
        "id": "iM_NtHzmqh0g"
      },
      "source": [
        "\n",
        "\n"
      ]
    },
    {
      "cell_type": "code",
      "execution_count": null,
      "metadata": {
        "id": "TmGBoaB9qh0g"
      },
      "outputs": [],
      "source": [
        "colnames(iris)\n",
        "\n"
      ]
    },
    {
      "cell_type": "markdown",
      "metadata": {
        "id": "-4I_W99Fqh0g"
      },
      "source": [
        "\n"
      ]
    },
    {
      "cell_type": "code",
      "execution_count": null,
      "metadata": {
        "id": "a4QjVbKTqh0g"
      },
      "outputs": [],
      "source": [
        "str(iris)\n",
        "\n"
      ]
    },
    {
      "cell_type": "markdown",
      "metadata": {
        "id": "LG2Sailbqh0g"
      },
      "source": [
        "Dimensionality of the data - 150 observations (rows) and 5 variables (columns).\n",
        "\n",
        "\n",
        "# 2. Summary Statistics\n"
      ]
    },
    {
      "cell_type": "code",
      "execution_count": null,
      "metadata": {
        "id": "DG1KYbpRqh0g"
      },
      "outputs": [],
      "source": [
        "summary(iris)\n",
        "\n"
      ]
    },
    {
      "cell_type": "markdown",
      "metadata": {
        "id": "urO8kjDXqh0g"
      },
      "source": [
        "\n",
        "Standard deviation on the 4 numeric variables.\n"
      ]
    },
    {
      "cell_type": "code",
      "execution_count": null,
      "metadata": {
        "id": "VZIFajx5qh0g"
      },
      "outputs": [],
      "source": [
        "apply(iris[,1:4], 2, sd)\n",
        "\n"
      ]
    },
    {
      "cell_type": "markdown",
      "metadata": {
        "id": "T5RrnP-Cqh0g"
      },
      "source": [
        "Aggregate statistics by species\n",
        "\n"
      ]
    },
    {
      "cell_type": "code",
      "execution_count": null,
      "metadata": {
        "id": "KFrbdPBGqh0h"
      },
      "outputs": [],
      "source": [
        "# Mean by species\n",
        "aggregate(.~Species, iris, mean)\n"
      ]
    },
    {
      "cell_type": "markdown",
      "metadata": {
        "id": "NOTAWDVWqh0h"
      },
      "source": [
        "\n",
        "\n"
      ]
    },
    {
      "cell_type": "code",
      "execution_count": null,
      "metadata": {
        "id": "z-in12pQqh0h"
      },
      "outputs": [],
      "source": [
        "# Standard Deviation by species\n",
        "aggregate(.~Species, iris, sd)\n"
      ]
    },
    {
      "cell_type": "markdown",
      "metadata": {
        "id": "i4xOMTgXqh0h"
      },
      "source": [
        "# 3. Visualizations\n",
        "\n",
        "## 3.1 Histogram\n",
        "\n",
        "Using Sepal length for the visualizations.\n"
      ]
    },
    {
      "cell_type": "code",
      "execution_count": null,
      "metadata": {
        "id": "07c-D1Zhqh0h"
      },
      "outputs": [],
      "source": [
        "hist(iris$Sepal.Length, col=\"red\", breaks=20)\n",
        "\n"
      ]
    },
    {
      "cell_type": "markdown",
      "metadata": {
        "id": "wuuoNmdKqh0h"
      },
      "source": [
        "## 3.2 Density plot\n",
        "\n"
      ]
    },
    {
      "cell_type": "code",
      "execution_count": null,
      "metadata": {
        "id": "BEwthzXaqh0h"
      },
      "outputs": [],
      "source": [
        "plot(density(iris$Sepal.Length))\n",
        "\n"
      ]
    },
    {
      "cell_type": "markdown",
      "metadata": {
        "id": "OcYTqH5Bqh0h"
      },
      "source": [
        "## 3.3 Box Plot\n",
        "\n",
        "3.3.1 Box plot of species over Petal length\n"
      ]
    },
    {
      "cell_type": "code",
      "execution_count": null,
      "metadata": {
        "id": "P6WHjyzZqh0h"
      },
      "outputs": [],
      "source": [
        "boxplot(Petal.Length~Species,data=iris,col=\"orange\",main=\"Petal Length Box Plot\",ylab=\"Plot Length\",xlab=\"Plot Width\")\n",
        "\n"
      ]
    },
    {
      "cell_type": "markdown",
      "metadata": {
        "id": "PdDEXg63qh0h"
      },
      "source": [
        "3.3.2 Box plot of the numeric features in the data set\n",
        "\n"
      ]
    },
    {
      "cell_type": "code",
      "execution_count": null,
      "metadata": {
        "id": "zUxB6BDKqh0h"
      },
      "outputs": [],
      "source": [
        "boxplot(iris[,1:4], notch=T, col=c(\"pink\", \"green\", \"blue\", \"orange\"))\n",
        "\n"
      ]
    },
    {
      "cell_type": "markdown",
      "metadata": {
        "id": "-z1CM6PIqh0h"
      },
      "source": [
        "## 3.4 Scatter Plot\n",
        "\n",
        "3.4.1 Scatter plot of Petal length and width and distinguishing species by color\n"
      ]
    },
    {
      "cell_type": "code",
      "execution_count": null,
      "metadata": {
        "id": "Nkiy8WOoqh0h"
      },
      "outputs": [],
      "source": [
        "plot(iris$Petal.Length, iris$Petal.Width, pch=21,bg=c(\"red\",\"green\",\"blue\")[unclass(iris$Species)], main=\"Iris Data Scatter Plot\", xlab=\"Petal Length\", ylab=\"Petal Width\")\n",
        "legend(\"topleft\", legend=c(\"Setosa\",\"Versicolor\", \"Virginica\"), fill=c(\"red\",\"green\",\"blue\"), cex = 0.9)\n"
      ]
    },
    {
      "cell_type": "markdown",
      "metadata": {
        "id": "Ba9XicCkqh0h"
      },
      "source": [
        "3.4.2 Scatter plot matrix\n",
        "\n"
      ]
    },
    {
      "cell_type": "code",
      "execution_count": null,
      "metadata": {
        "id": "xzcNxsHVqh0h"
      },
      "outputs": [],
      "source": [
        "pairs(iris[,1:4])\n",
        "\n"
      ]
    },
    {
      "cell_type": "markdown",
      "metadata": {
        "id": "3E9MS0qKqh0h"
      },
      "source": [
        "## 3.5 Violin Plot\n",
        "\n"
      ]
    },
    {
      "cell_type": "code",
      "execution_count": null,
      "metadata": {
        "id": "-7Jb-8zqqh0h"
      },
      "outputs": [],
      "source": [
        "library(vioplot)\n",
        "vioplot(iris$Petal.Length[iris$Species==\"setosa\"], iris$Petal.Length[iris$Species==\"versicolor\"], iris$Petal.Length[iris$Species==\"virginica\"], names=c(\"setosa\", \"versicolor\", \"virginica\"), main = \"Petal Length Violin Plot\")\n"
      ]
    },
    {
      "cell_type": "markdown",
      "metadata": {
        "id": "z_c_4ylTqh0i"
      },
      "source": [
        "## 3.6 Parallel Coordinates\n",
        "\n"
      ]
    },
    {
      "cell_type": "code",
      "execution_count": null,
      "metadata": {
        "id": "x2U--GDbqh0i"
      },
      "outputs": [],
      "source": [
        "library(MASS)\n",
        "parcoord(iris[,1:4],col=iris$Species)\n"
      ]
    }
  ],
  "metadata": {
    "anaconda-cloud": "",
    "kernelspec": {
      "display_name": "R",
      "langauge": "R",
      "name": "ir"
    },
    "language_info": {
      "codemirror_mode": "r",
      "file_extension": ".r",
      "mimetype": "text/x-r-source",
      "name": "R",
      "pygments_lexer": "r",
      "version": "3.4.1"
    },
    "colab": {
      "provenance": []
    }
  },
  "nbformat": 4,
  "nbformat_minor": 0
}