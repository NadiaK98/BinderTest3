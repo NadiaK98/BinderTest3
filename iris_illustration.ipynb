{
    "cells": [
        {
            "cell_type": "markdown",
            "metadata": {},
            "source": [
                "This is an R Markdown Notebook with Exploratory Data Analysis on the iris dataset.\n",
                "The goal of this analysis to to understand the dataset by erxploring values under each of the categories of flowers.\n",
                "This Exploratory Data Analysis helps in understanding and preparing the dataset for applying Machine Learning algorithms.\n",
                "\n",
                "\n",
                "# 1. Dataset Description\n",
                "\n",
                "Iris dataset was introduced by Ronald Fisher, a British Biologist in 1936. The data set has 150 observations, around 50 for each species of Iris - setosa, virginica and versicolor. There are 4 features measured on each sample - length and the width of sepal and petal, in centimeters. Fisher built a linear discriminant model to distinguish the species using the 4 features.\n",
                "\n",
                "\n",
                "Reading the data set from csv file or load from the datasets built-in with the R installation.\n"
            ]
        },
        {
            "cell_type": "code",
            "execution_count": null,
            "metadata": {},
            "outputs": [],
            "source": [
                "data(iris)\n",
                "\n"
            ]
        },
        {
            "cell_type": "markdown",
            "metadata": {},
            "source": [
                "View the loaded iris dataset\n",
                "\n"
            ]
        },
        {
            "cell_type": "code",
            "execution_count": null,
            "metadata": {},
            "outputs": [],
            "source": [
                "iris\n",
                "\n"
            ]
        },
        {
            "cell_type": "markdown",
            "metadata": {},
            "source": [
                "\n",
                "\n"
            ]
        },
        {
            "cell_type": "code",
            "execution_count": null,
            "metadata": {},
            "outputs": [],
            "source": [
                "colnames(iris)\n",
                "\n"
            ]
        },
        {
            "cell_type": "markdown",
            "metadata": {},
            "source": "\n"
        },
        {
            "cell_type": "code",
            "execution_count": null,
            "metadata": {},
            "outputs": [],
            "source": [
                "str(iris)\n",
                "\n"
            ]
        },
        {
            "cell_type": "markdown",
            "metadata": {},
            "source": [
                "Dimensionality of the data - 150 observations (rows) and 5 variables (columns).\n",
                "\n",
                "\n",
                "# 2. Summary Statistics\n"
            ]
        },
        {
            "cell_type": "code",
            "execution_count": null,
            "metadata": {},
            "outputs": [],
            "source": [
                "summary(iris)\n",
                "\n"
            ]
        },
        {
            "cell_type": "markdown",
            "metadata": {},
            "source": [
                "\n",
                "Standard deviation on the 4 numeric variables.\n"
            ]
        },
        {
            "cell_type": "code",
            "execution_count": null,
            "metadata": {},
            "outputs": [],
            "source": [
                "apply(iris[,1:4], 2, sd)\n",
                "\n"
            ]
        },
        {
            "cell_type": "markdown",
            "metadata": {},
            "source": [
                "Aggregate statistics by species\n",
                "\n"
            ]
        },
        {
            "cell_type": "code",
            "execution_count": null,
            "metadata": {},
            "outputs": [],
            "source": [
                "# Mean by species\n",
                "aggregate(.~Species, iris, mean)\n"
            ]
        },
        {
            "cell_type": "markdown",
            "metadata": {},
            "source": [
                "\n",
                "\n"
            ]
        },
        {
            "cell_type": "code",
            "execution_count": null,
            "metadata": {},
            "outputs": [],
            "source": [
                "# Standard Deviation by species\n",
                "aggregate(.~Species, iris, sd)\n"
            ]
        },
        {
            "cell_type": "markdown",
            "metadata": {},
            "source": [
                "# 3. Visualizations\n",
                "\n",
                "## 3.1 Histogram\n",
                "\n",
                "Using Sepal length for the visualizations.\n"
            ]
        },
        {
            "cell_type": "code",
            "execution_count": null,
            "metadata": {},
            "outputs": [],
            "source": [
                "hist(iris$Sepal.Length, col=\"red\", breaks=20)\n",
                "\n"
            ]
        },
        {
            "cell_type": "markdown",
            "metadata": {},
            "source": [
                "## 3.2 Density plot\n",
                "\n"
            ]
        },
        {
            "cell_type": "code",
            "execution_count": null,
            "metadata": {},
            "outputs": [],
            "source": [
                "plot(density(iris$Sepal.Length))\n",
                "\n"
            ]
        },
        {
            "cell_type": "markdown",
            "metadata": {},
            "source": [
                "## 3.3 Box Plot\n",
                "\n",
                "3.3.1 Box plot of species over Petal length\n"
            ]
        },
        {
            "cell_type": "code",
            "execution_count": null,
            "metadata": {},
            "outputs": [],
            "source": [
                "boxplot(Petal.Length~Species,data=iris,col=\"orange\",main=\"Petal Length Box Plot\",ylab=\"Plot Length\",xlab=\"Plot Width\")\n",
                "\n"
            ]
        },
        {
            "cell_type": "markdown",
            "metadata": {},
            "source": [
                "3.3.2 Box plot of the numeric features in the data set\n",
                "\n"
            ]
        },
        {
            "cell_type": "code",
            "execution_count": null,
            "metadata": {},
            "outputs": [],
            "source": [
                "boxplot(iris[,1:4], notch=T, col=c(\"pink\", \"green\", \"blue\", \"orange\"))\n",
                "\n"
            ]
        },
        {
            "cell_type": "markdown",
            "metadata": {},
            "source": [
                "## 3.4 Scatter Plot\n",
                "\n",
                "3.4.1 Scatter plot of Petal length and width and distinguishing species by color\n"
            ]
        },
        {
            "cell_type": "code",
            "execution_count": null,
            "metadata": {},
            "outputs": [],
            "source": [
                "plot(iris$Petal.Length, iris$Petal.Width, pch=21,bg=c(\"red\",\"green\",\"blue\")[unclass(iris$Species)], main=\"Iris Data Scatter Plot\", xlab=\"Petal Length\", ylab=\"Petal Width\")\n",
                "legend(\"topleft\", legend=c(\"Setosa\",\"Versicolor\", \"Virginica\"), fill=c(\"red\",\"green\",\"blue\"), cex = 0.9)\n"
            ]
        },
        {
            "cell_type": "markdown",
            "metadata": {},
            "source": [
                "3.4.2 Scatter plot matrix\n",
                "\n"
            ]
        },
        {
            "cell_type": "code",
            "execution_count": null,
            "metadata": {},
            "outputs": [],
            "source": [
                "pairs(iris[,1:4])\n",
                "\n"
            ]
        },
        {
            "cell_type": "markdown",
            "metadata": {},
            "source": [
                "## 3.5 Violin Plot\n",
                "\n"
            ]
        },
        {
            "cell_type": "code",
            "execution_count": null,
            "metadata": {},
            "outputs": [],
            "source": [
                "library(vioplot)\n",
                "vioplot(iris$Petal.Length[iris$Species==\"setosa\"], iris$Petal.Length[iris$Species==\"versicolor\"], iris$Petal.Length[iris$Species==\"virginica\"], names=c(\"setosa\", \"versicolor\", \"virginica\"), main = \"Petal Length Violin Plot\")\n"
            ]
        },
        {
            "cell_type": "markdown",
            "metadata": {},
            "source": [
                "## 3.6 Parallel Coordinates\n",
                "\n"
            ]
        },
        {
            "cell_type": "code",
            "execution_count": null,
            "metadata": {},
            "outputs": [],
            "source": [
                "library(MASS)\n",
                "parcoord(iris[,1:4],col=iris$Species)\n"
            ]
        }
    ],
    "metadata": {
        "anaconda-cloud": "",
        "kernelspec": {
            "display_name": "R",
            "langauge": "R",
            "name": "ir"
        },
        "language_info": {
            "codemirror_mode": "r",
            "file_extension": ".r",
            "mimetype": "text/x-r-source",
            "name": "R",
            "pygments_lexer": "r",
            "version": "3.4.1"
        }
    },
    "nbformat": 4,
    "nbformat_minor": 1
}
